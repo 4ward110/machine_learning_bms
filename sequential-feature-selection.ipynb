{
 "cells": [
  {
   "cell_type": "code",
   "execution_count": 1,
   "id": "fde14526",
   "metadata": {},
   "outputs": [
    {
     "name": "stdout",
     "output_type": "stream",
     "text": [
      "Class labels [1 2 3]\n"
     ]
    },
    {
     "data": {
      "text/html": [
       "<div>\n",
       "<style scoped>\n",
       "    .dataframe tbody tr th:only-of-type {\n",
       "        vertical-align: middle;\n",
       "    }\n",
       "\n",
       "    .dataframe tbody tr th {\n",
       "        vertical-align: top;\n",
       "    }\n",
       "\n",
       "    .dataframe thead th {\n",
       "        text-align: right;\n",
       "    }\n",
       "</style>\n",
       "<table border=\"1\" class=\"dataframe\">\n",
       "  <thead>\n",
       "    <tr style=\"text-align: right;\">\n",
       "      <th></th>\n",
       "      <th>Class label</th>\n",
       "      <th>Alcohol</th>\n",
       "      <th>Malic acid</th>\n",
       "      <th>Ash</th>\n",
       "      <th>Alcalinity of ash</th>\n",
       "      <th>Magnesium</th>\n",
       "      <th>Total phenols</th>\n",
       "      <th>Flavanoids</th>\n",
       "      <th>Nonflavanoid phenols</th>\n",
       "      <th>Proanthocyanins</th>\n",
       "      <th>Color intensity</th>\n",
       "      <th>Hue</th>\n",
       "      <th>OD280/OD315 of diluted wines</th>\n",
       "      <th>Proline</th>\n",
       "    </tr>\n",
       "  </thead>\n",
       "  <tbody>\n",
       "    <tr>\n",
       "      <th>0</th>\n",
       "      <td>1</td>\n",
       "      <td>14.23</td>\n",
       "      <td>1.71</td>\n",
       "      <td>2.43</td>\n",
       "      <td>15.6</td>\n",
       "      <td>127</td>\n",
       "      <td>2.80</td>\n",
       "      <td>3.06</td>\n",
       "      <td>0.28</td>\n",
       "      <td>2.29</td>\n",
       "      <td>5.64</td>\n",
       "      <td>1.04</td>\n",
       "      <td>3.92</td>\n",
       "      <td>1065</td>\n",
       "    </tr>\n",
       "    <tr>\n",
       "      <th>1</th>\n",
       "      <td>1</td>\n",
       "      <td>13.20</td>\n",
       "      <td>1.78</td>\n",
       "      <td>2.14</td>\n",
       "      <td>11.2</td>\n",
       "      <td>100</td>\n",
       "      <td>2.65</td>\n",
       "      <td>2.76</td>\n",
       "      <td>0.26</td>\n",
       "      <td>1.28</td>\n",
       "      <td>4.38</td>\n",
       "      <td>1.05</td>\n",
       "      <td>3.40</td>\n",
       "      <td>1050</td>\n",
       "    </tr>\n",
       "    <tr>\n",
       "      <th>2</th>\n",
       "      <td>1</td>\n",
       "      <td>13.16</td>\n",
       "      <td>2.36</td>\n",
       "      <td>2.67</td>\n",
       "      <td>18.6</td>\n",
       "      <td>101</td>\n",
       "      <td>2.80</td>\n",
       "      <td>3.24</td>\n",
       "      <td>0.30</td>\n",
       "      <td>2.81</td>\n",
       "      <td>5.68</td>\n",
       "      <td>1.03</td>\n",
       "      <td>3.17</td>\n",
       "      <td>1185</td>\n",
       "    </tr>\n",
       "    <tr>\n",
       "      <th>3</th>\n",
       "      <td>1</td>\n",
       "      <td>14.37</td>\n",
       "      <td>1.95</td>\n",
       "      <td>2.50</td>\n",
       "      <td>16.8</td>\n",
       "      <td>113</td>\n",
       "      <td>3.85</td>\n",
       "      <td>3.49</td>\n",
       "      <td>0.24</td>\n",
       "      <td>2.18</td>\n",
       "      <td>7.80</td>\n",
       "      <td>0.86</td>\n",
       "      <td>3.45</td>\n",
       "      <td>1480</td>\n",
       "    </tr>\n",
       "    <tr>\n",
       "      <th>4</th>\n",
       "      <td>1</td>\n",
       "      <td>13.24</td>\n",
       "      <td>2.59</td>\n",
       "      <td>2.87</td>\n",
       "      <td>21.0</td>\n",
       "      <td>118</td>\n",
       "      <td>2.80</td>\n",
       "      <td>2.69</td>\n",
       "      <td>0.39</td>\n",
       "      <td>1.82</td>\n",
       "      <td>4.32</td>\n",
       "      <td>1.04</td>\n",
       "      <td>2.93</td>\n",
       "      <td>735</td>\n",
       "    </tr>\n",
       "  </tbody>\n",
       "</table>\n",
       "</div>"
      ],
      "text/plain": [
       "   Class label  Alcohol  Malic acid   Ash  Alcalinity of ash  Magnesium  \\\n",
       "0            1    14.23        1.71  2.43               15.6        127   \n",
       "1            1    13.20        1.78  2.14               11.2        100   \n",
       "2            1    13.16        2.36  2.67               18.6        101   \n",
       "3            1    14.37        1.95  2.50               16.8        113   \n",
       "4            1    13.24        2.59  2.87               21.0        118   \n",
       "\n",
       "   Total phenols  Flavanoids  Nonflavanoid phenols  Proanthocyanins  \\\n",
       "0           2.80        3.06                  0.28             2.29   \n",
       "1           2.65        2.76                  0.26             1.28   \n",
       "2           2.80        3.24                  0.30             2.81   \n",
       "3           3.85        3.49                  0.24             2.18   \n",
       "4           2.80        2.69                  0.39             1.82   \n",
       "\n",
       "   Color intensity   Hue  OD280/OD315 of diluted wines  Proline  \n",
       "0             5.64  1.04                          3.92     1065  \n",
       "1             4.38  1.05                          3.40     1050  \n",
       "2             5.68  1.03                          3.17     1185  \n",
       "3             7.80  0.86                          3.45     1480  \n",
       "4             4.32  1.04                          2.93      735  "
      ]
     },
     "execution_count": 1,
     "metadata": {},
     "output_type": "execute_result"
    }
   ],
   "source": [
    "%matplotlib inline\n",
    "import matplotlib.pyplot as plt\n",
    "import pandas as pd\n",
    "import numpy as np\n",
    "\n",
    "\n",
    "df_wine = pd.read_csv('https://archive.ics.uci.edu/'\n",
    "                      'ml/machine-learning-databases/wine/wine.data',\n",
    "                      header=None)\n",
    "\n",
    "\n",
    "df_wine.columns = ['Class label', 'Alcohol', 'Malic acid', 'Ash',\n",
    "                   'Alcalinity of ash', 'Magnesium', 'Total phenols',\n",
    "                   'Flavanoids', 'Nonflavanoid phenols', 'Proanthocyanins',\n",
    "                   'Color intensity', 'Hue', 'OD280/OD315 of diluted wines',\n",
    "                   'Proline']\n",
    "\n",
    "print('Class labels', np.unique(df_wine['Class label']))\n",
    "df_wine.head()"
   ]
  },
  {
   "cell_type": "code",
   "execution_count": 2,
   "id": "fc1f39cc",
   "metadata": {},
   "outputs": [],
   "source": [
    "from sklearn.model_selection import train_test_split\n",
    "from sklearn.preprocessing import StandardScaler\n",
    "\n",
    "\n",
    "X, y = df_wine.iloc[:, 1:].values, df_wine.iloc[:, 0].values\n",
    "\n",
    "X_train, X_test, y_train, y_test =\\\n",
    "    train_test_split(X, y, \n",
    "                     test_size=0.2, \n",
    "                     random_state=123, \n",
    "                     stratify=y)\n",
    "\n",
    "sc = StandardScaler()\n",
    "X_train_std = sc.fit_transform(X_train)\n",
    "X_test_std = sc.transform(X_test)"
   ]
  },
  {
   "cell_type": "code",
   "execution_count": 3,
   "id": "42a532f3",
   "metadata": {},
   "outputs": [
    {
     "name": "stdout",
     "output_type": "stream",
     "text": [
      "Training accuracy: 98.59154929577466\n",
      "Test accuracy: 94.44444444444444\n"
     ]
    }
   ],
   "source": [
    "from sklearn.neighbors import KNeighborsClassifier\n",
    "\n",
    "\n",
    "model = KNeighborsClassifier(n_neighbors=5)\n",
    "\n",
    "model.fit(X_train_std, y_train)\n",
    "\n",
    "print('Training accuracy:', np.mean(model.predict(X_train_std) == y_train)*100)\n",
    "print('Test accuracy:', np.mean(model.predict(X_test_std) == y_test)*100)"
   ]
  },
  {
   "cell_type": "markdown",
   "id": "c2c4f4bc",
   "metadata": {},
   "source": [
    "### Selecting 5 features"
   ]
  },
  {
   "cell_type": "code",
   "execution_count": 4,
   "id": "4cd130dd",
   "metadata": {},
   "outputs": [
    {
     "name": "stderr",
     "output_type": "stream",
     "text": [
      "[Parallel(n_jobs=-1)]: Using backend LokyBackend with 8 concurrent workers.\n",
      "[Parallel(n_jobs=-1)]: Done   5 out of  13 | elapsed:    1.7s remaining:    2.8s\n",
      "[Parallel(n_jobs=-1)]: Done  13 out of  13 | elapsed:    1.8s finished\n",
      "\n",
      "[2022-03-15 12:18:18] Features: 1/5 -- score: 0.7815270935960592[Parallel(n_jobs=-1)]: Using backend LokyBackend with 8 concurrent workers.\n",
      "[Parallel(n_jobs=-1)]: Done   4 out of  12 | elapsed:    0.0s remaining:    0.0s\n",
      "[Parallel(n_jobs=-1)]: Done  12 out of  12 | elapsed:    0.0s finished\n",
      "\n",
      "[2022-03-15 12:18:18] Features: 2/5 -- score: 0.9147783251231527[Parallel(n_jobs=-1)]: Using backend LokyBackend with 8 concurrent workers.\n",
      "[Parallel(n_jobs=-1)]: Done   2 out of  11 | elapsed:    0.0s remaining:    0.0s\n",
      "[Parallel(n_jobs=-1)]: Done   8 out of  11 | elapsed:    0.0s remaining:    0.0s\n",
      "[Parallel(n_jobs=-1)]: Done  11 out of  11 | elapsed:    0.0s finished\n",
      "\n",
      "[2022-03-15 12:18:18] Features: 3/5 -- score: 0.9502463054187192[Parallel(n_jobs=-1)]: Using backend LokyBackend with 8 concurrent workers.\n",
      "[Parallel(n_jobs=-1)]: Done   7 out of  10 | elapsed:    0.0s remaining:    0.0s\n",
      "[Parallel(n_jobs=-1)]: Done  10 out of  10 | elapsed:    0.0s finished\n",
      "\n",
      "[2022-03-15 12:18:18] Features: 4/5 -- score: 0.9785714285714284[Parallel(n_jobs=-1)]: Using backend LokyBackend with 8 concurrent workers.\n",
      "[Parallel(n_jobs=-1)]: Done   4 out of   9 | elapsed:    0.0s remaining:    0.0s\n",
      "[Parallel(n_jobs=-1)]: Done   9 out of   9 | elapsed:    0.0s remaining:    0.0s\n",
      "[Parallel(n_jobs=-1)]: Done   9 out of   9 | elapsed:    0.0s finished\n",
      "\n",
      "[2022-03-15 12:18:18] Features: 5/5 -- score: 0.9928571428571429"
     ]
    }
   ],
   "source": [
    "from mlxtend.feature_selection import SequentialFeatureSelector as SFS\n",
    "\n",
    "\n",
    "sfs1 = SFS(model, \n",
    "           k_features=5, \n",
    "           forward=True, \n",
    "           floating=False, \n",
    "           verbose=2,\n",
    "           scoring='accuracy',\n",
    "           n_jobs=-1,\n",
    "           cv=5)\n",
    "\n",
    "\n",
    "sfs1 = sfs1.fit(X_train_std, y_train)"
   ]
  },
  {
   "cell_type": "code",
   "execution_count": 5,
   "id": "5750bca8",
   "metadata": {},
   "outputs": [
    {
     "data": {
      "text/plain": [
       "(0, 6, 9, 10, 12)"
      ]
     },
     "execution_count": 5,
     "metadata": {},
     "output_type": "execute_result"
    }
   ],
   "source": [
    "sfs1.k_feature_idx_"
   ]
  },
  {
   "cell_type": "code",
   "execution_count": 6,
   "id": "1997b867",
   "metadata": {},
   "outputs": [
    {
     "data": {
      "text/plain": [
       "Index(['Alcohol', 'Flavanoids', 'Color intensity', 'Hue', 'Proline'], dtype='object')"
      ]
     },
     "execution_count": 6,
     "metadata": {},
     "output_type": "execute_result"
    }
   ],
   "source": [
    "df_wine.columns[1:][list(sfs1.k_feature_idx_)]"
   ]
  },
  {
   "cell_type": "code",
   "execution_count": 7,
   "id": "065e52a1",
   "metadata": {},
   "outputs": [
    {
     "name": "stdout",
     "output_type": "stream",
     "text": [
      "Training accuracy: 99.29577464788733\n",
      "Test accuracy: 97.22222222222221\n"
     ]
    }
   ],
   "source": [
    "X_train_sele = sfs1.transform(X_train_std)\n",
    "X_test_sele = sfs1.transform(X_test_std)\n",
    "\n",
    "model.fit(X_train_sele, y_train)\n",
    "print('Training accuracy:', np.mean(model.predict(X_train_sele) == y_train)*100)\n",
    "print('Test accuracy:', np.mean(model.predict(X_test_sele) == y_test)*100)"
   ]
  },
  {
   "cell_type": "markdown",
   "id": "93b0ac95",
   "metadata": {},
   "source": [
    "### Inspect result"
   ]
  },
  {
   "cell_type": "code",
   "execution_count": 8,
   "id": "7ec1c885",
   "metadata": {},
   "outputs": [
    {
     "data": {
      "text/plain": [
       "{1: {'feature_idx': (6,),\n",
       "  'cv_scores': array([0.72413793, 0.86206897, 0.85714286, 0.75      , 0.71428571]),\n",
       "  'avg_score': 0.7815270935960592,\n",
       "  'feature_names': ('6',)},\n",
       " 2: {'feature_idx': (6, 10),\n",
       "  'cv_scores': array([0.96551724, 0.96551724, 0.85714286, 0.89285714, 0.89285714]),\n",
       "  'avg_score': 0.9147783251231527,\n",
       "  'feature_names': ('6', '10')},\n",
       " 3: {'feature_idx': (6, 10, 12),\n",
       "  'cv_scores': array([0.96551724, 1.        , 0.85714286, 0.96428571, 0.96428571]),\n",
       "  'avg_score': 0.9502463054187192,\n",
       "  'feature_names': ('6', '10', '12')},\n",
       " 4: {'feature_idx': (6, 9, 10, 12),\n",
       "  'cv_scores': array([1.        , 1.        , 0.89285714, 1.        , 1.        ]),\n",
       "  'avg_score': 0.9785714285714284,\n",
       "  'feature_names': ('6', '9', '10', '12')},\n",
       " 5: {'feature_idx': (0, 6, 9, 10, 12),\n",
       "  'cv_scores': array([1.        , 1.        , 0.96428571, 1.        , 1.        ]),\n",
       "  'avg_score': 0.9928571428571429,\n",
       "  'feature_names': ('0', '6', '9', '10', '12')}}"
      ]
     },
     "execution_count": 8,
     "metadata": {},
     "output_type": "execute_result"
    }
   ],
   "source": [
    "sfs1.subsets_"
   ]
  },
  {
   "cell_type": "code",
   "execution_count": 9,
   "id": "ddca80ba",
   "metadata": {},
   "outputs": [
    {
     "data": {
      "text/plain": [
       "{1: {'feature_idx': (6,),\n",
       "  'cv_scores': array([0.72413793, 0.86206897, 0.85714286, 0.75      , 0.71428571]),\n",
       "  'avg_score': 0.7815270935960592,\n",
       "  'feature_names': ('6',),\n",
       "  'ci_bound': 0.08332336625528668,\n",
       "  'std_dev': 0.06482840971522402,\n",
       "  'std_err': 0.032414204857612004},\n",
       " 2: {'feature_idx': (6, 10),\n",
       "  'cv_scores': array([0.96551724, 0.96551724, 0.85714286, 0.89285714, 0.89285714]),\n",
       "  'avg_score': 0.9147783251231527,\n",
       "  'feature_names': ('6', '10'),\n",
       "  'ci_bound': 0.055823068137204036,\n",
       "  'std_dev': 0.043432243503843296,\n",
       "  'std_err': 0.021716121751921644},\n",
       " 3: {'feature_idx': (6, 10, 12),\n",
       "  'cv_scores': array([0.96551724, 1.        , 0.85714286, 0.96428571, 0.96428571]),\n",
       "  'avg_score': 0.9502463054187192,\n",
       "  'feature_names': ('6', '10', '12'),\n",
       "  'ci_bound': 0.062362690699099374,\n",
       "  'std_dev': 0.0485202920294701,\n",
       "  'std_err': 0.02426014601473505},\n",
       " 4: {'feature_idx': (6, 9, 10, 12),\n",
       "  'cv_scores': array([1.        , 1.        , 0.89285714, 1.        , 1.        ]),\n",
       "  'avg_score': 0.9785714285714284,\n",
       "  'feature_names': ('6', '9', '10', '12'),\n",
       "  'ci_bound': 0.05508389649888725,\n",
       "  'std_dev': 0.04285714285714284,\n",
       "  'std_err': 0.02142857142857142},\n",
       " 5: {'feature_idx': (0, 6, 9, 10, 12),\n",
       "  'cv_scores': array([1.        , 1.        , 0.96428571, 1.        , 1.        ]),\n",
       "  'avg_score': 0.9928571428571429,\n",
       "  'feature_names': ('0', '6', '9', '10', '12'),\n",
       "  'ci_bound': 0.018361298832962416,\n",
       "  'std_dev': 0.01428571428571428,\n",
       "  'std_err': 0.007142857142857139}}"
      ]
     },
     "execution_count": 9,
     "metadata": {},
     "output_type": "execute_result"
    }
   ],
   "source": [
    "metric_dict = sfs1.get_metric_dict(confidence_interval=0.95)\n",
    "metric_dict"
   ]
  },
  {
   "cell_type": "code",
   "execution_count": 10,
   "id": "f9bfbbbc",
   "metadata": {},
   "outputs": [
    {
     "data": {
      "text/html": [
       "<div>\n",
       "<style scoped>\n",
       "    .dataframe tbody tr th:only-of-type {\n",
       "        vertical-align: middle;\n",
       "    }\n",
       "\n",
       "    .dataframe tbody tr th {\n",
       "        vertical-align: top;\n",
       "    }\n",
       "\n",
       "    .dataframe thead th {\n",
       "        text-align: right;\n",
       "    }\n",
       "</style>\n",
       "<table border=\"1\" class=\"dataframe\">\n",
       "  <thead>\n",
       "    <tr style=\"text-align: right;\">\n",
       "      <th></th>\n",
       "      <th>feature_idx</th>\n",
       "      <th>cv_scores</th>\n",
       "      <th>avg_score</th>\n",
       "      <th>feature_names</th>\n",
       "      <th>ci_bound</th>\n",
       "      <th>std_dev</th>\n",
       "      <th>std_err</th>\n",
       "    </tr>\n",
       "  </thead>\n",
       "  <tbody>\n",
       "    <tr>\n",
       "      <th>1</th>\n",
       "      <td>(6,)</td>\n",
       "      <td>[0.7241379310344828, 0.8620689655172413, 0.857...</td>\n",
       "      <td>0.781527</td>\n",
       "      <td>(6,)</td>\n",
       "      <td>0.083323</td>\n",
       "      <td>0.064828</td>\n",
       "      <td>0.032414</td>\n",
       "    </tr>\n",
       "    <tr>\n",
       "      <th>2</th>\n",
       "      <td>(6, 10)</td>\n",
       "      <td>[0.9655172413793104, 0.9655172413793104, 0.857...</td>\n",
       "      <td>0.914778</td>\n",
       "      <td>(6, 10)</td>\n",
       "      <td>0.055823</td>\n",
       "      <td>0.043432</td>\n",
       "      <td>0.021716</td>\n",
       "    </tr>\n",
       "    <tr>\n",
       "      <th>3</th>\n",
       "      <td>(6, 10, 12)</td>\n",
       "      <td>[0.9655172413793104, 1.0, 0.8571428571428571, ...</td>\n",
       "      <td>0.950246</td>\n",
       "      <td>(6, 10, 12)</td>\n",
       "      <td>0.062363</td>\n",
       "      <td>0.04852</td>\n",
       "      <td>0.02426</td>\n",
       "    </tr>\n",
       "    <tr>\n",
       "      <th>4</th>\n",
       "      <td>(6, 9, 10, 12)</td>\n",
       "      <td>[1.0, 1.0, 0.8928571428571429, 1.0, 1.0]</td>\n",
       "      <td>0.978571</td>\n",
       "      <td>(6, 9, 10, 12)</td>\n",
       "      <td>0.055084</td>\n",
       "      <td>0.042857</td>\n",
       "      <td>0.021429</td>\n",
       "    </tr>\n",
       "    <tr>\n",
       "      <th>5</th>\n",
       "      <td>(0, 6, 9, 10, 12)</td>\n",
       "      <td>[1.0, 1.0, 0.9642857142857143, 1.0, 1.0]</td>\n",
       "      <td>0.992857</td>\n",
       "      <td>(0, 6, 9, 10, 12)</td>\n",
       "      <td>0.018361</td>\n",
       "      <td>0.014286</td>\n",
       "      <td>0.007143</td>\n",
       "    </tr>\n",
       "  </tbody>\n",
       "</table>\n",
       "</div>"
      ],
      "text/plain": [
       "         feature_idx                                          cv_scores  \\\n",
       "1               (6,)  [0.7241379310344828, 0.8620689655172413, 0.857...   \n",
       "2            (6, 10)  [0.9655172413793104, 0.9655172413793104, 0.857...   \n",
       "3        (6, 10, 12)  [0.9655172413793104, 1.0, 0.8571428571428571, ...   \n",
       "4     (6, 9, 10, 12)           [1.0, 1.0, 0.8928571428571429, 1.0, 1.0]   \n",
       "5  (0, 6, 9, 10, 12)           [1.0, 1.0, 0.9642857142857143, 1.0, 1.0]   \n",
       "\n",
       "  avg_score      feature_names  ci_bound   std_dev   std_err  \n",
       "1  0.781527               (6,)  0.083323  0.064828  0.032414  \n",
       "2  0.914778            (6, 10)  0.055823  0.043432  0.021716  \n",
       "3  0.950246        (6, 10, 12)  0.062363   0.04852   0.02426  \n",
       "4  0.978571     (6, 9, 10, 12)  0.055084  0.042857  0.021429  \n",
       "5  0.992857  (0, 6, 9, 10, 12)  0.018361  0.014286  0.007143  "
      ]
     },
     "execution_count": 10,
     "metadata": {},
     "output_type": "execute_result"
    }
   ],
   "source": [
    "df = pd.DataFrame.from_dict(metric_dict).T\n",
    "df"
   ]
  },
  {
   "cell_type": "code",
   "execution_count": 11,
   "id": "456d240f",
   "metadata": {},
   "outputs": [
    {
     "data": {
      "image/png": "[encoded data removed]",
      "text/plain": [
       "<Figure size 432x288 with 1 Axes>"
      ]
     },
     "metadata": {
      "needs_background": "light"
     },
     "output_type": "display_data"
    }
   ],
   "source": [
    "from mlxtend.plotting import plot_sequential_feature_selection as plot_sfs\n",
    "\n",
    "\n",
    "fig1 = plot_sfs(metric_dict, kind='std_dev')\n",
    "\n",
    "plt.title('Sequential Forward Selection (w. StdDev)')\n",
    "plt.grid()\n",
    "plt.show()"
   ]
  },
  {
   "cell_type": "markdown",
   "id": "edc8c3e1",
   "metadata": {},
   "source": [
    "### Select best subset of any size"
   ]
  },
  {
   "cell_type": "code",
   "execution_count": 12,
   "id": "231bf225",
   "metadata": {},
   "outputs": [],
   "source": [
    "sfs1 = SFS(model, \n",
    "           k_features=\"best\", # or (1, 13) and then select by hand \n",
    "           forward=True, \n",
    "           floating=False, \n",
    "           verbose=0,\n",
    "           scoring='accuracy',\n",
    "           cv=5)\n",
    "\n",
    "\n",
    "sfs1 = sfs1.fit(X_train_std, y_train)"
   ]
  },
  {
   "cell_type": "code",
   "execution_count": 13,
   "id": "428129e7",
   "metadata": {},
   "outputs": [
    {
     "data": {
      "image/png": "[encoded data removed]",
      "text/plain": [
       "<Figure size 432x288 with 1 Axes>"
      ]
     },
     "metadata": {
      "needs_background": "light"
     },
     "output_type": "display_data"
    }
   ],
   "source": [
    "metric_dict = sfs1.get_metric_dict(confidence_interval=0.95)\n",
    "fig1 = plot_sfs(metric_dict, kind='std_dev')\n",
    "\n",
    "plt.title('Sequential Forward Selection (w. StdDev)')\n",
    "plt.grid()\n",
    "plt.show()"
   ]
  },
  {
   "cell_type": "code",
   "execution_count": 14,
   "id": "35f8bb0a",
   "metadata": {},
   "outputs": [
    {
     "data": {
      "text/plain": [
       "(0, 6, 9, 10, 12)"
      ]
     },
     "execution_count": 14,
     "metadata": {},
     "output_type": "execute_result"
    }
   ],
   "source": [
    "sfs1.k_feature_idx_"
   ]
  },
  {
   "cell_type": "code",
   "execution_count": null,
   "id": "810c9d46",
   "metadata": {},
   "outputs": [],
   "source": []
  }
 ],
 "metadata": {
  "kernelspec": {
   "display_name": "Python 3",
   "language": "python",
   "name": "python3"
  },
  "language_info": {
   "codemirror_mode": {
    "name": "ipython",
    "version": 3
   },
   "file_extension": ".py",
   "mimetype": "text/x-python",
   "name": "python",
   "nbconvert_exporter": "python",
   "pygments_lexer": "ipython3",
   "version": "3.8.8"
  }
 },
 "nbformat": 4,
 "nbformat_minor": 5
}
